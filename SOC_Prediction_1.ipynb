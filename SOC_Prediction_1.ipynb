{
  "nbformat": 4,
  "nbformat_minor": 0,
  "metadata": {
    "colab": {
      "provenance": []
    },
    "kernelspec": {
      "name": "python3",
      "display_name": "Python 3"
    },
    "language_info": {
      "name": "python"
    }
  },
  "cells": [
    {
      "cell_type": "code",
      "execution_count": null,
      "metadata": {
        "id": "ETTjvA9yCg_m"
      },
      "outputs": [],
      "source": [
        "import numpy as np\n",
        "import pandas as pd\n",
        "import seaborn as sns\n",
        "import matplotlib.pyplot as plt\n",
        "import time\n"
      ]
    },
    {
      "cell_type": "code",
      "source": [
        "import sys\n",
        "!{sys.executable} -m pip install pandas-profiling"
      ],
      "metadata": {
        "colab": {
          "base_uri": "https://localhost:8080/"
        },
        "id": "5yrYt3lK1lb0",
        "outputId": "8a39e213-7a2b-4986-ddd4-51c9b50c7eb7"
      },
      "execution_count": null,
      "outputs": [
        {
          "output_type": "stream",
          "name": "stdout",
          "text": [
            "Collecting pandas-profiling\n",
            "  Downloading pandas_profiling-3.6.6-py2.py3-none-any.whl (324 kB)\n",
            "\u001b[2K     \u001b[90m━━━━━━━━━━━━━━━━━━━━━━━━━━━━━━━━━━━━━━━\u001b[0m \u001b[32m324.4/324.4 kB\u001b[0m \u001b[31m6.6 MB/s\u001b[0m eta \u001b[36m0:00:00\u001b[0m\n",
            "\u001b[?25hCollecting ydata-profiling (from pandas-profiling)\n",
            "  Downloading ydata_profiling-4.3.1-py2.py3-none-any.whl (352 kB)\n",
            "\u001b[2K     \u001b[90m━━━━━━━━━━━━━━━━━━━━━━━━━━━━━━━━━━━━━━\u001b[0m \u001b[32m353.0/353.0 kB\u001b[0m \u001b[31m27.7 MB/s\u001b[0m eta \u001b[36m0:00:00\u001b[0m\n",
            "\u001b[?25hRequirement already satisfied: scipy<1.11,>=1.4.1 in /usr/local/lib/python3.10/dist-packages (from ydata-profiling->pandas-profiling) (1.10.1)\n",
            "Requirement already satisfied: pandas!=1.4.0,<2.1,>1.1 in /usr/local/lib/python3.10/dist-packages (from ydata-profiling->pandas-profiling) (1.5.3)\n",
            "Requirement already satisfied: matplotlib<4,>=3.2 in /usr/local/lib/python3.10/dist-packages (from ydata-profiling->pandas-profiling) (3.7.1)\n",
            "Requirement already satisfied: pydantic<2,>=1.8.1 in /usr/local/lib/python3.10/dist-packages (from ydata-profiling->pandas-profiling) (1.10.9)\n",
            "Requirement already satisfied: PyYAML<6.1,>=5.0.0 in /usr/local/lib/python3.10/dist-packages (from ydata-profiling->pandas-profiling) (6.0)\n",
            "Requirement already satisfied: jinja2<3.2,>=2.11.1 in /usr/local/lib/python3.10/dist-packages (from ydata-profiling->pandas-profiling) (3.1.2)\n",
            "Collecting visions[type_image_path]==0.7.5 (from ydata-profiling->pandas-profiling)\n",
            "  Downloading visions-0.7.5-py3-none-any.whl (102 kB)\n",
            "\u001b[2K     \u001b[90m━━━━━━━━━━━━━━━━━━━━━━━━━━━━━━━━━━━━━━\u001b[0m \u001b[32m102.7/102.7 kB\u001b[0m \u001b[31m12.0 MB/s\u001b[0m eta \u001b[36m0:00:00\u001b[0m\n",
            "\u001b[?25hRequirement already satisfied: numpy<1.24,>=1.16.0 in /usr/local/lib/python3.10/dist-packages (from ydata-profiling->pandas-profiling) (1.22.4)\n",
            "Collecting htmlmin==0.1.12 (from ydata-profiling->pandas-profiling)\n",
            "  Downloading htmlmin-0.1.12.tar.gz (19 kB)\n",
            "  Preparing metadata (setup.py) ... \u001b[?25l\u001b[?25hdone\n",
            "Collecting phik<0.13,>=0.11.1 (from ydata-profiling->pandas-profiling)\n",
            "  Downloading phik-0.12.3-cp310-cp310-manylinux_2_17_x86_64.manylinux2014_x86_64.whl (679 kB)\n",
            "\u001b[2K     \u001b[90m━━━━━━━━━━━━━━━━━━━━━━━━━━━━━━━━━━━━━━\u001b[0m \u001b[32m679.5/679.5 kB\u001b[0m \u001b[31m45.0 MB/s\u001b[0m eta \u001b[36m0:00:00\u001b[0m\n",
            "\u001b[?25hRequirement already satisfied: requests<3,>=2.24.0 in /usr/local/lib/python3.10/dist-packages (from ydata-profiling->pandas-profiling) (2.27.1)\n",
            "Requirement already satisfied: tqdm<5,>=4.48.2 in /usr/local/lib/python3.10/dist-packages (from ydata-profiling->pandas-profiling) (4.65.0)\n",
            "Requirement already satisfied: seaborn<0.13,>=0.10.1 in /usr/local/lib/python3.10/dist-packages (from ydata-profiling->pandas-profiling) (0.12.2)\n",
            "Collecting multimethod<2,>=1.4 (from ydata-profiling->pandas-profiling)\n",
            "  Downloading multimethod-1.9.1-py3-none-any.whl (10 kB)\n",
            "Requirement already satisfied: statsmodels<1,>=0.13.2 in /usr/local/lib/python3.10/dist-packages (from ydata-profiling->pandas-profiling) (0.13.5)\n",
            "Collecting typeguard<3,>=2.13.2 (from ydata-profiling->pandas-profiling)\n",
            "  Downloading typeguard-2.13.3-py3-none-any.whl (17 kB)\n",
            "Collecting imagehash==4.3.1 (from ydata-profiling->pandas-profiling)\n",
            "  Downloading ImageHash-4.3.1-py2.py3-none-any.whl (296 kB)\n",
            "\u001b[2K     \u001b[90m━━━━━━━━━━━━━━━━━━━━━━━━━━━━━━━━━━━━━━\u001b[0m \u001b[32m296.5/296.5 kB\u001b[0m \u001b[31m26.4 MB/s\u001b[0m eta \u001b[36m0:00:00\u001b[0m\n",
            "\u001b[?25hCollecting wordcloud>=1.9.1 (from ydata-profiling->pandas-profiling)\n",
            "  Downloading wordcloud-1.9.2-cp310-cp310-manylinux_2_17_x86_64.manylinux2014_x86_64.whl (455 kB)\n",
            "\u001b[2K     \u001b[90m━━━━━━━━━━━━━━━━━━━━━━━━━━━━━━━━━━━━━━\u001b[0m \u001b[32m455.4/455.4 kB\u001b[0m \u001b[31m39.5 MB/s\u001b[0m eta \u001b[36m0:00:00\u001b[0m\n",
            "\u001b[?25hCollecting dacite>=1.8 (from ydata-profiling->pandas-profiling)\n",
            "  Downloading dacite-1.8.1-py3-none-any.whl (14 kB)\n",
            "Requirement already satisfied: PyWavelets in /usr/local/lib/python3.10/dist-packages (from imagehash==4.3.1->ydata-profiling->pandas-profiling) (1.4.1)\n",
            "Requirement already satisfied: pillow in /usr/local/lib/python3.10/dist-packages (from imagehash==4.3.1->ydata-profiling->pandas-profiling) (8.4.0)\n",
            "Requirement already satisfied: attrs>=19.3.0 in /usr/local/lib/python3.10/dist-packages (from visions[type_image_path]==0.7.5->ydata-profiling->pandas-profiling) (23.1.0)\n",
            "Requirement already satisfied: networkx>=2.4 in /usr/local/lib/python3.10/dist-packages (from visions[type_image_path]==0.7.5->ydata-profiling->pandas-profiling) (3.1)\n",
            "Collecting tangled-up-in-unicode>=0.0.4 (from visions[type_image_path]==0.7.5->ydata-profiling->pandas-profiling)\n",
            "  Downloading tangled_up_in_unicode-0.2.0-py3-none-any.whl (4.7 MB)\n",
            "\u001b[2K     \u001b[90m━━━━━━━━━━━━━━━━━━━━━━━━━━━━━━━━━━━━━━━━\u001b[0m \u001b[32m4.7/4.7 MB\u001b[0m \u001b[31m79.0 MB/s\u001b[0m eta \u001b[36m0:00:00\u001b[0m\n",
            "\u001b[?25hRequirement already satisfied: MarkupSafe>=2.0 in /usr/local/lib/python3.10/dist-packages (from jinja2<3.2,>=2.11.1->ydata-profiling->pandas-profiling) (2.1.3)\n",
            "Requirement already satisfied: contourpy>=1.0.1 in /usr/local/lib/python3.10/dist-packages (from matplotlib<4,>=3.2->ydata-profiling->pandas-profiling) (1.1.0)\n",
            "Requirement already satisfied: cycler>=0.10 in /usr/local/lib/python3.10/dist-packages (from matplotlib<4,>=3.2->ydata-profiling->pandas-profiling) (0.11.0)\n",
            "Requirement already satisfied: fonttools>=4.22.0 in /usr/local/lib/python3.10/dist-packages (from matplotlib<4,>=3.2->ydata-profiling->pandas-profiling) (4.40.0)\n",
            "Requirement already satisfied: kiwisolver>=1.0.1 in /usr/local/lib/python3.10/dist-packages (from matplotlib<4,>=3.2->ydata-profiling->pandas-profiling) (1.4.4)\n",
            "Requirement already satisfied: packaging>=20.0 in /usr/local/lib/python3.10/dist-packages (from matplotlib<4,>=3.2->ydata-profiling->pandas-profiling) (23.1)\n",
            "Requirement already satisfied: pyparsing>=2.3.1 in /usr/local/lib/python3.10/dist-packages (from matplotlib<4,>=3.2->ydata-profiling->pandas-profiling) (3.1.0)\n",
            "Requirement already satisfied: python-dateutil>=2.7 in /usr/local/lib/python3.10/dist-packages (from matplotlib<4,>=3.2->ydata-profiling->pandas-profiling) (2.8.2)\n",
            "Requirement already satisfied: pytz>=2020.1 in /usr/local/lib/python3.10/dist-packages (from pandas!=1.4.0,<2.1,>1.1->ydata-profiling->pandas-profiling) (2022.7.1)\n",
            "Requirement already satisfied: joblib>=0.14.1 in /usr/local/lib/python3.10/dist-packages (from phik<0.13,>=0.11.1->ydata-profiling->pandas-profiling) (1.2.0)\n",
            "Requirement already satisfied: typing-extensions>=4.2.0 in /usr/local/lib/python3.10/dist-packages (from pydantic<2,>=1.8.1->ydata-profiling->pandas-profiling) (4.6.3)\n",
            "Requirement already satisfied: urllib3<1.27,>=1.21.1 in /usr/local/lib/python3.10/dist-packages (from requests<3,>=2.24.0->ydata-profiling->pandas-profiling) (1.26.16)\n",
            "Requirement already satisfied: certifi>=2017.4.17 in /usr/local/lib/python3.10/dist-packages (from requests<3,>=2.24.0->ydata-profiling->pandas-profiling) (2023.5.7)\n",
            "Requirement already satisfied: charset-normalizer~=2.0.0 in /usr/local/lib/python3.10/dist-packages (from requests<3,>=2.24.0->ydata-profiling->pandas-profiling) (2.0.12)\n",
            "Requirement already satisfied: idna<4,>=2.5 in /usr/local/lib/python3.10/dist-packages (from requests<3,>=2.24.0->ydata-profiling->pandas-profiling) (3.4)\n",
            "Requirement already satisfied: patsy>=0.5.2 in /usr/local/lib/python3.10/dist-packages (from statsmodels<1,>=0.13.2->ydata-profiling->pandas-profiling) (0.5.3)\n",
            "Requirement already satisfied: six in /usr/local/lib/python3.10/dist-packages (from patsy>=0.5.2->statsmodels<1,>=0.13.2->ydata-profiling->pandas-profiling) (1.16.0)\n",
            "Building wheels for collected packages: htmlmin\n",
            "  Building wheel for htmlmin (setup.py) ... \u001b[?25l\u001b[?25hdone\n",
            "  Created wheel for htmlmin: filename=htmlmin-0.1.12-py3-none-any.whl size=27081 sha256=96980d827b9db2e233cb0e2bb9c7f1535f5091efc66f37d688b5f7c7de075535\n",
            "  Stored in directory: /root/.cache/pip/wheels/dd/91/29/a79cecb328d01739e64017b6fb9a1ab9d8cb1853098ec5966d\n",
            "Successfully built htmlmin\n",
            "Installing collected packages: htmlmin, typeguard, tangled-up-in-unicode, multimethod, dacite, imagehash, wordcloud, visions, phik, ydata-profiling, pandas-profiling\n",
            "  Attempting uninstall: wordcloud\n",
            "    Found existing installation: wordcloud 1.8.2.2\n",
            "    Uninstalling wordcloud-1.8.2.2:\n",
            "      Successfully uninstalled wordcloud-1.8.2.2\n",
            "Successfully installed dacite-1.8.1 htmlmin-0.1.12 imagehash-4.3.1 multimethod-1.9.1 pandas-profiling-3.6.6 phik-0.12.3 tangled-up-in-unicode-0.2.0 typeguard-2.13.3 visions-0.7.5 wordcloud-1.9.2 ydata-profiling-4.3.1\n"
          ]
        }
      ]
    },
    {
      "cell_type": "code",
      "source": [
        "from pandas_profiling import ProfileReport"
      ],
      "metadata": {
        "colab": {
          "base_uri": "https://localhost:8080/"
        },
        "id": "ob_PzxEA1v7L",
        "outputId": "879e0e1e-bd7c-4192-d372-b3b4b82cd874"
      },
      "execution_count": null,
      "outputs": [
        {
          "output_type": "stream",
          "name": "stderr",
          "text": [
            "<ipython-input-3-e2a33329b6f0>:1: DeprecationWarning: `import pandas_profiling` is going to be deprecated by April 1st. Please use `import ydata_profiling` instead.\n",
            "  from pandas_profiling import ProfileReport\n"
          ]
        }
      ]
    },
    {
      "cell_type": "code",
      "source": [
        "df = pd.read_csv('combined_final_removed.csv', encoding='latin1')\n"
      ],
      "metadata": {
        "id": "eeg8WxncDZZO"
      },
      "execution_count": null,
      "outputs": []
    },
    {
      "cell_type": "code",
      "source": [
        "model_performance = pd.DataFrame(columns = ['R2 Value','RMSE', 'Accuracy (Threshold = 0.5)', 'Prediction expected(65%)', 'time to train(seconds)', 'time to predict(seconds)', 'total time(seconds)'])"
      ],
      "metadata": {
        "id": "svy8tc4gZ8Ye"
      },
      "execution_count": null,
      "outputs": []
    },
    {
      "cell_type": "code",
      "source": [
        "df.head(10)"
      ],
      "metadata": {
        "colab": {
          "base_uri": "https://localhost:8080/",
          "height": 363
        },
        "id": "HWQeDDWmDnko",
        "outputId": "dbfac35c-6802-4f99-b82a-96a83c8d6b7a"
      },
      "execution_count": null,
      "outputs": [
        {
          "output_type": "execute_result",
          "data": {
            "text/plain": [
              "   Test_Cell_Temp[C]  Test_Cell_RH[%]  Dyno_Tractive_Effort[N]  \\\n",
              "0             20.163           75.938                  -11.561   \n",
              "1             20.162           75.934                  -11.639   \n",
              "2             20.160           75.927                  -11.475   \n",
              "3             20.159           75.925                  -11.435   \n",
              "4             20.161           75.925                  -11.372   \n",
              "5             20.161           75.925                  -11.554   \n",
              "6             20.160           75.925                  -11.708   \n",
              "7             20.160           75.924                  -11.468   \n",
              "8             20.161           75.921                  -11.624   \n",
              "9             20.159           75.915                  -11.587   \n",
              "\n",
              "   Accelerator_Pedal_Position[%]  HV_Battery_Current[A]  \\\n",
              "0                            0.0                  2.154   \n",
              "1                            0.0                  2.159   \n",
              "2                            0.0                  2.131   \n",
              "3                            0.0                  2.131   \n",
              "4                            0.0                  2.128   \n",
              "5                            0.0                  2.145   \n",
              "6                            0.0                  2.144   \n",
              "7                            0.0                  2.137   \n",
              "8                            0.0                  2.130   \n",
              "9                            0.0                  2.122   \n",
              "\n",
              "   HV_Battery_Voltage[V]  Motor_Speed[rpm]  HV_Battery_SOC[%]  \n",
              "0                335.668               0.0              100.0  \n",
              "1                335.654               0.0              100.0  \n",
              "2                335.656               0.0              100.0  \n",
              "3                335.660               0.0              100.0  \n",
              "4                335.663               0.0              100.0  \n",
              "5                335.660               0.0              100.0  \n",
              "6                335.660               0.0              100.0  \n",
              "7                335.653               0.0              100.0  \n",
              "8                335.656               0.0              100.0  \n",
              "9                335.660               0.0              100.0  "
            ],
            "text/html": [
              "\n",
              "  <div id=\"df-fa5a2133-1b7f-428d-b10a-61538f9147bf\">\n",
              "    <div class=\"colab-df-container\">\n",
              "      <div>\n",
              "<style scoped>\n",
              "    .dataframe tbody tr th:only-of-type {\n",
              "        vertical-align: middle;\n",
              "    }\n",
              "\n",
              "    .dataframe tbody tr th {\n",
              "        vertical-align: top;\n",
              "    }\n",
              "\n",
              "    .dataframe thead th {\n",
              "        text-align: right;\n",
              "    }\n",
              "</style>\n",
              "<table border=\"1\" class=\"dataframe\">\n",
              "  <thead>\n",
              "    <tr style=\"text-align: right;\">\n",
              "      <th></th>\n",
              "      <th>Test_Cell_Temp[C]</th>\n",
              "      <th>Test_Cell_RH[%]</th>\n",
              "      <th>Dyno_Tractive_Effort[N]</th>\n",
              "      <th>Accelerator_Pedal_Position[%]</th>\n",
              "      <th>HV_Battery_Current[A]</th>\n",
              "      <th>HV_Battery_Voltage[V]</th>\n",
              "      <th>Motor_Speed[rpm]</th>\n",
              "      <th>HV_Battery_SOC[%]</th>\n",
              "    </tr>\n",
              "  </thead>\n",
              "  <tbody>\n",
              "    <tr>\n",
              "      <th>0</th>\n",
              "      <td>20.163</td>\n",
              "      <td>75.938</td>\n",
              "      <td>-11.561</td>\n",
              "      <td>0.0</td>\n",
              "      <td>2.154</td>\n",
              "      <td>335.668</td>\n",
              "      <td>0.0</td>\n",
              "      <td>100.0</td>\n",
              "    </tr>\n",
              "    <tr>\n",
              "      <th>1</th>\n",
              "      <td>20.162</td>\n",
              "      <td>75.934</td>\n",
              "      <td>-11.639</td>\n",
              "      <td>0.0</td>\n",
              "      <td>2.159</td>\n",
              "      <td>335.654</td>\n",
              "      <td>0.0</td>\n",
              "      <td>100.0</td>\n",
              "    </tr>\n",
              "    <tr>\n",
              "      <th>2</th>\n",
              "      <td>20.160</td>\n",
              "      <td>75.927</td>\n",
              "      <td>-11.475</td>\n",
              "      <td>0.0</td>\n",
              "      <td>2.131</td>\n",
              "      <td>335.656</td>\n",
              "      <td>0.0</td>\n",
              "      <td>100.0</td>\n",
              "    </tr>\n",
              "    <tr>\n",
              "      <th>3</th>\n",
              "      <td>20.159</td>\n",
              "      <td>75.925</td>\n",
              "      <td>-11.435</td>\n",
              "      <td>0.0</td>\n",
              "      <td>2.131</td>\n",
              "      <td>335.660</td>\n",
              "      <td>0.0</td>\n",
              "      <td>100.0</td>\n",
              "    </tr>\n",
              "    <tr>\n",
              "      <th>4</th>\n",
              "      <td>20.161</td>\n",
              "      <td>75.925</td>\n",
              "      <td>-11.372</td>\n",
              "      <td>0.0</td>\n",
              "      <td>2.128</td>\n",
              "      <td>335.663</td>\n",
              "      <td>0.0</td>\n",
              "      <td>100.0</td>\n",
              "    </tr>\n",
              "    <tr>\n",
              "      <th>5</th>\n",
              "      <td>20.161</td>\n",
              "      <td>75.925</td>\n",
              "      <td>-11.554</td>\n",
              "      <td>0.0</td>\n",
              "      <td>2.145</td>\n",
              "      <td>335.660</td>\n",
              "      <td>0.0</td>\n",
              "      <td>100.0</td>\n",
              "    </tr>\n",
              "    <tr>\n",
              "      <th>6</th>\n",
              "      <td>20.160</td>\n",
              "      <td>75.925</td>\n",
              "      <td>-11.708</td>\n",
              "      <td>0.0</td>\n",
              "      <td>2.144</td>\n",
              "      <td>335.660</td>\n",
              "      <td>0.0</td>\n",
              "      <td>100.0</td>\n",
              "    </tr>\n",
              "    <tr>\n",
              "      <th>7</th>\n",
              "      <td>20.160</td>\n",
              "      <td>75.924</td>\n",
              "      <td>-11.468</td>\n",
              "      <td>0.0</td>\n",
              "      <td>2.137</td>\n",
              "      <td>335.653</td>\n",
              "      <td>0.0</td>\n",
              "      <td>100.0</td>\n",
              "    </tr>\n",
              "    <tr>\n",
              "      <th>8</th>\n",
              "      <td>20.161</td>\n",
              "      <td>75.921</td>\n",
              "      <td>-11.624</td>\n",
              "      <td>0.0</td>\n",
              "      <td>2.130</td>\n",
              "      <td>335.656</td>\n",
              "      <td>0.0</td>\n",
              "      <td>100.0</td>\n",
              "    </tr>\n",
              "    <tr>\n",
              "      <th>9</th>\n",
              "      <td>20.159</td>\n",
              "      <td>75.915</td>\n",
              "      <td>-11.587</td>\n",
              "      <td>0.0</td>\n",
              "      <td>2.122</td>\n",
              "      <td>335.660</td>\n",
              "      <td>0.0</td>\n",
              "      <td>100.0</td>\n",
              "    </tr>\n",
              "  </tbody>\n",
              "</table>\n",
              "</div>\n",
              "      <button class=\"colab-df-convert\" onclick=\"convertToInteractive('df-fa5a2133-1b7f-428d-b10a-61538f9147bf')\"\n",
              "              title=\"Convert this dataframe to an interactive table.\"\n",
              "              style=\"display:none;\">\n",
              "        \n",
              "  <svg xmlns=\"http://www.w3.org/2000/svg\" height=\"24px\"viewBox=\"0 0 24 24\"\n",
              "       width=\"24px\">\n",
              "    <path d=\"M0 0h24v24H0V0z\" fill=\"none\"/>\n",
              "    <path d=\"M18.56 5.44l.94 2.06.94-2.06 2.06-.94-2.06-.94-.94-2.06-.94 2.06-2.06.94zm-11 1L8.5 8.5l.94-2.06 2.06-.94-2.06-.94L8.5 2.5l-.94 2.06-2.06.94zm10 10l.94 2.06.94-2.06 2.06-.94-2.06-.94-.94-2.06-.94 2.06-2.06.94z\"/><path d=\"M17.41 7.96l-1.37-1.37c-.4-.4-.92-.59-1.43-.59-.52 0-1.04.2-1.43.59L10.3 9.45l-7.72 7.72c-.78.78-.78 2.05 0 2.83L4 21.41c.39.39.9.59 1.41.59.51 0 1.02-.2 1.41-.59l7.78-7.78 2.81-2.81c.8-.78.8-2.07 0-2.86zM5.41 20L4 18.59l7.72-7.72 1.47 1.35L5.41 20z\"/>\n",
              "  </svg>\n",
              "      </button>\n",
              "      \n",
              "  <style>\n",
              "    .colab-df-container {\n",
              "      display:flex;\n",
              "      flex-wrap:wrap;\n",
              "      gap: 12px;\n",
              "    }\n",
              "\n",
              "    .colab-df-convert {\n",
              "      background-color: #E8F0FE;\n",
              "      border: none;\n",
              "      border-radius: 50%;\n",
              "      cursor: pointer;\n",
              "      display: none;\n",
              "      fill: #1967D2;\n",
              "      height: 32px;\n",
              "      padding: 0 0 0 0;\n",
              "      width: 32px;\n",
              "    }\n",
              "\n",
              "    .colab-df-convert:hover {\n",
              "      background-color: #E2EBFA;\n",
              "      box-shadow: 0px 1px 2px rgba(60, 64, 67, 0.3), 0px 1px 3px 1px rgba(60, 64, 67, 0.15);\n",
              "      fill: #174EA6;\n",
              "    }\n",
              "\n",
              "    [theme=dark] .colab-df-convert {\n",
              "      background-color: #3B4455;\n",
              "      fill: #D2E3FC;\n",
              "    }\n",
              "\n",
              "    [theme=dark] .colab-df-convert:hover {\n",
              "      background-color: #434B5C;\n",
              "      box-shadow: 0px 1px 3px 1px rgba(0, 0, 0, 0.15);\n",
              "      filter: drop-shadow(0px 1px 2px rgba(0, 0, 0, 0.3));\n",
              "      fill: #FFFFFF;\n",
              "    }\n",
              "  </style>\n",
              "\n",
              "      <script>\n",
              "        const buttonEl =\n",
              "          document.querySelector('#df-fa5a2133-1b7f-428d-b10a-61538f9147bf button.colab-df-convert');\n",
              "        buttonEl.style.display =\n",
              "          google.colab.kernel.accessAllowed ? 'block' : 'none';\n",
              "\n",
              "        async function convertToInteractive(key) {\n",
              "          const element = document.querySelector('#df-fa5a2133-1b7f-428d-b10a-61538f9147bf');\n",
              "          const dataTable =\n",
              "            await google.colab.kernel.invokeFunction('convertToInteractive',\n",
              "                                                     [key], {});\n",
              "          if (!dataTable) return;\n",
              "\n",
              "          const docLinkHtml = 'Like what you see? Visit the ' +\n",
              "            '<a target=\"_blank\" href=https://colab.research.google.com/notebooks/data_table.ipynb>data table notebook</a>'\n",
              "            + ' to learn more about interactive tables.';\n",
              "          element.innerHTML = '';\n",
              "          dataTable['output_type'] = 'display_data';\n",
              "          await google.colab.output.renderOutput(dataTable, element);\n",
              "          const docLink = document.createElement('div');\n",
              "          docLink.innerHTML = docLinkHtml;\n",
              "          element.appendChild(docLink);\n",
              "        }\n",
              "      </script>\n",
              "    </div>\n",
              "  </div>\n",
              "  "
            ]
          },
          "metadata": {},
          "execution_count": 6
        }
      ]
    },
    {
      "cell_type": "code",
      "source": [
        "sensor_list = df.columns[0:-1]"
      ],
      "metadata": {
        "id": "sDcROSZ9EhP8"
      },
      "execution_count": null,
      "outputs": []
    },
    {
      "cell_type": "code",
      "source": [
        "sensor_list"
      ],
      "metadata": {
        "colab": {
          "base_uri": "https://localhost:8080/"
        },
        "id": "A_73CLrWFMRc",
        "outputId": "2b79bf35-e949-4085-cf28-49e53a469590"
      },
      "execution_count": null,
      "outputs": [
        {
          "output_type": "execute_result",
          "data": {
            "text/plain": [
              "Index(['Test_Cell_Temp[C]', 'Test_Cell_RH[%]', 'Dyno_Tractive_Effort[N]',\n",
              "       'Accelerator_Pedal_Position[%]', 'HV_Battery_Current[A]',\n",
              "       'HV_Battery_Voltage[V]', 'Motor_Speed[rpm]'],\n",
              "      dtype='object')"
            ]
          },
          "metadata": {},
          "execution_count": 8
        }
      ]
    },
    {
      "cell_type": "code",
      "source": [
        "df.info()"
      ],
      "metadata": {
        "colab": {
          "base_uri": "https://localhost:8080/"
        },
        "id": "bkUke0BHFQ-b",
        "outputId": "29042ca0-4ac3-4e1f-83cc-97f775b8409a"
      },
      "execution_count": null,
      "outputs": [
        {
          "output_type": "stream",
          "name": "stdout",
          "text": [
            "<class 'pandas.core.frame.DataFrame'>\n",
            "RangeIndex: 570809 entries, 0 to 570808\n",
            "Data columns (total 8 columns):\n",
            " #   Column                         Non-Null Count   Dtype  \n",
            "---  ------                         --------------   -----  \n",
            " 0   Test_Cell_Temp[C]              570809 non-null  float64\n",
            " 1   Test_Cell_RH[%]                570809 non-null  float64\n",
            " 2   Dyno_Tractive_Effort[N]        570809 non-null  float64\n",
            " 3   Accelerator_Pedal_Position[%]  570809 non-null  float64\n",
            " 4   HV_Battery_Current[A]          570809 non-null  float64\n",
            " 5   HV_Battery_Voltage[V]          570809 non-null  float64\n",
            " 6   Motor_Speed[rpm]               570809 non-null  float64\n",
            " 7   HV_Battery_SOC[%]              570809 non-null  float64\n",
            "dtypes: float64(8)\n",
            "memory usage: 34.8 MB\n"
          ]
        }
      ]
    },
    {
      "cell_type": "code",
      "source": [
        "df.describe().T"
      ],
      "metadata": {
        "colab": {
          "base_uri": "https://localhost:8080/",
          "height": 300
        },
        "id": "7OAuFVmnFXF7",
        "outputId": "76fb0ed2-458a-499e-9a98-a9a0987b45d2"
      },
      "execution_count": null,
      "outputs": [
        {
          "output_type": "execute_result",
          "data": {
            "text/plain": [
              "                                  count         mean          std       min  \\\n",
              "Test_Cell_Temp[C]              570809.0    16.549710    17.945539   -18.424   \n",
              "Test_Cell_RH[%]                570809.0    34.439830    20.345511     1.783   \n",
              "Dyno_Tractive_Effort[N]        570809.0   126.971012  1122.583298 -9629.539   \n",
              "Accelerator_Pedal_Position[%]  570809.0    16.777127    16.650367     0.000   \n",
              "HV_Battery_Current[A]          570809.0    35.010340    58.009374  -119.551   \n",
              "HV_Battery_Voltage[V]          570809.0   264.075165   101.775405    -0.195   \n",
              "Motor_Speed[rpm]               570809.0  3974.241622  3244.726501   -89.165   \n",
              "HV_Battery_SOC[%]              570809.0    52.437324    32.610702     0.000   \n",
              "\n",
              "                                   25%       50%       75%        max  \n",
              "Test_Cell_Temp[C]               -4.151    21.880    27.071     40.970  \n",
              "Test_Cell_RH[%]                 18.572    34.828    48.907     85.644  \n",
              "Dyno_Tractive_Effort[N]        -11.784    84.495   317.886  10426.434  \n",
              "Accelerator_Pedal_Position[%]    0.000    16.809    26.400    100.000  \n",
              "HV_Battery_Current[A]            0.639    28.042    57.726    532.638  \n",
              "HV_Battery_Voltage[V]          281.817   297.113   314.478    350.882  \n",
              "Motor_Speed[rpm]               217.630  3475.084  7215.133  11004.271  \n",
              "HV_Battery_SOC[%]               22.100    52.900    84.600    100.000  "
            ],
            "text/html": [
              "\n",
              "  <div id=\"df-124fb47e-9fec-4005-bbf6-55d9454ed154\">\n",
              "    <div class=\"colab-df-container\">\n",
              "      <div>\n",
              "<style scoped>\n",
              "    .dataframe tbody tr th:only-of-type {\n",
              "        vertical-align: middle;\n",
              "    }\n",
              "\n",
              "    .dataframe tbody tr th {\n",
              "        vertical-align: top;\n",
              "    }\n",
              "\n",
              "    .dataframe thead th {\n",
              "        text-align: right;\n",
              "    }\n",
              "</style>\n",
              "<table border=\"1\" class=\"dataframe\">\n",
              "  <thead>\n",
              "    <tr style=\"text-align: right;\">\n",
              "      <th></th>\n",
              "      <th>count</th>\n",
              "      <th>mean</th>\n",
              "      <th>std</th>\n",
              "      <th>min</th>\n",
              "      <th>25%</th>\n",
              "      <th>50%</th>\n",
              "      <th>75%</th>\n",
              "      <th>max</th>\n",
              "    </tr>\n",
              "  </thead>\n",
              "  <tbody>\n",
              "    <tr>\n",
              "      <th>Test_Cell_Temp[C]</th>\n",
              "      <td>570809.0</td>\n",
              "      <td>16.549710</td>\n",
              "      <td>17.945539</td>\n",
              "      <td>-18.424</td>\n",
              "      <td>-4.151</td>\n",
              "      <td>21.880</td>\n",
              "      <td>27.071</td>\n",
              "      <td>40.970</td>\n",
              "    </tr>\n",
              "    <tr>\n",
              "      <th>Test_Cell_RH[%]</th>\n",
              "      <td>570809.0</td>\n",
              "      <td>34.439830</td>\n",
              "      <td>20.345511</td>\n",
              "      <td>1.783</td>\n",
              "      <td>18.572</td>\n",
              "      <td>34.828</td>\n",
              "      <td>48.907</td>\n",
              "      <td>85.644</td>\n",
              "    </tr>\n",
              "    <tr>\n",
              "      <th>Dyno_Tractive_Effort[N]</th>\n",
              "      <td>570809.0</td>\n",
              "      <td>126.971012</td>\n",
              "      <td>1122.583298</td>\n",
              "      <td>-9629.539</td>\n",
              "      <td>-11.784</td>\n",
              "      <td>84.495</td>\n",
              "      <td>317.886</td>\n",
              "      <td>10426.434</td>\n",
              "    </tr>\n",
              "    <tr>\n",
              "      <th>Accelerator_Pedal_Position[%]</th>\n",
              "      <td>570809.0</td>\n",
              "      <td>16.777127</td>\n",
              "      <td>16.650367</td>\n",
              "      <td>0.000</td>\n",
              "      <td>0.000</td>\n",
              "      <td>16.809</td>\n",
              "      <td>26.400</td>\n",
              "      <td>100.000</td>\n",
              "    </tr>\n",
              "    <tr>\n",
              "      <th>HV_Battery_Current[A]</th>\n",
              "      <td>570809.0</td>\n",
              "      <td>35.010340</td>\n",
              "      <td>58.009374</td>\n",
              "      <td>-119.551</td>\n",
              "      <td>0.639</td>\n",
              "      <td>28.042</td>\n",
              "      <td>57.726</td>\n",
              "      <td>532.638</td>\n",
              "    </tr>\n",
              "    <tr>\n",
              "      <th>HV_Battery_Voltage[V]</th>\n",
              "      <td>570809.0</td>\n",
              "      <td>264.075165</td>\n",
              "      <td>101.775405</td>\n",
              "      <td>-0.195</td>\n",
              "      <td>281.817</td>\n",
              "      <td>297.113</td>\n",
              "      <td>314.478</td>\n",
              "      <td>350.882</td>\n",
              "    </tr>\n",
              "    <tr>\n",
              "      <th>Motor_Speed[rpm]</th>\n",
              "      <td>570809.0</td>\n",
              "      <td>3974.241622</td>\n",
              "      <td>3244.726501</td>\n",
              "      <td>-89.165</td>\n",
              "      <td>217.630</td>\n",
              "      <td>3475.084</td>\n",
              "      <td>7215.133</td>\n",
              "      <td>11004.271</td>\n",
              "    </tr>\n",
              "    <tr>\n",
              "      <th>HV_Battery_SOC[%]</th>\n",
              "      <td>570809.0</td>\n",
              "      <td>52.437324</td>\n",
              "      <td>32.610702</td>\n",
              "      <td>0.000</td>\n",
              "      <td>22.100</td>\n",
              "      <td>52.900</td>\n",
              "      <td>84.600</td>\n",
              "      <td>100.000</td>\n",
              "    </tr>\n",
              "  </tbody>\n",
              "</table>\n",
              "</div>\n",
              "      <button class=\"colab-df-convert\" onclick=\"convertToInteractive('df-124fb47e-9fec-4005-bbf6-55d9454ed154')\"\n",
              "              title=\"Convert this dataframe to an interactive table.\"\n",
              "              style=\"display:none;\">\n",
              "        \n",
              "  <svg xmlns=\"http://www.w3.org/2000/svg\" height=\"24px\"viewBox=\"0 0 24 24\"\n",
              "       width=\"24px\">\n",
              "    <path d=\"M0 0h24v24H0V0z\" fill=\"none\"/>\n",
              "    <path d=\"M18.56 5.44l.94 2.06.94-2.06 2.06-.94-2.06-.94-.94-2.06-.94 2.06-2.06.94zm-11 1L8.5 8.5l.94-2.06 2.06-.94-2.06-.94L8.5 2.5l-.94 2.06-2.06.94zm10 10l.94 2.06.94-2.06 2.06-.94-2.06-.94-.94-2.06-.94 2.06-2.06.94z\"/><path d=\"M17.41 7.96l-1.37-1.37c-.4-.4-.92-.59-1.43-.59-.52 0-1.04.2-1.43.59L10.3 9.45l-7.72 7.72c-.78.78-.78 2.05 0 2.83L4 21.41c.39.39.9.59 1.41.59.51 0 1.02-.2 1.41-.59l7.78-7.78 2.81-2.81c.8-.78.8-2.07 0-2.86zM5.41 20L4 18.59l7.72-7.72 1.47 1.35L5.41 20z\"/>\n",
              "  </svg>\n",
              "      </button>\n",
              "      \n",
              "  <style>\n",
              "    .colab-df-container {\n",
              "      display:flex;\n",
              "      flex-wrap:wrap;\n",
              "      gap: 12px;\n",
              "    }\n",
              "\n",
              "    .colab-df-convert {\n",
              "      background-color: #E8F0FE;\n",
              "      border: none;\n",
              "      border-radius: 50%;\n",
              "      cursor: pointer;\n",
              "      display: none;\n",
              "      fill: #1967D2;\n",
              "      height: 32px;\n",
              "      padding: 0 0 0 0;\n",
              "      width: 32px;\n",
              "    }\n",
              "\n",
              "    .colab-df-convert:hover {\n",
              "      background-color: #E2EBFA;\n",
              "      box-shadow: 0px 1px 2px rgba(60, 64, 67, 0.3), 0px 1px 3px 1px rgba(60, 64, 67, 0.15);\n",
              "      fill: #174EA6;\n",
              "    }\n",
              "\n",
              "    [theme=dark] .colab-df-convert {\n",
              "      background-color: #3B4455;\n",
              "      fill: #D2E3FC;\n",
              "    }\n",
              "\n",
              "    [theme=dark] .colab-df-convert:hover {\n",
              "      background-color: #434B5C;\n",
              "      box-shadow: 0px 1px 3px 1px rgba(0, 0, 0, 0.15);\n",
              "      filter: drop-shadow(0px 1px 2px rgba(0, 0, 0, 0.3));\n",
              "      fill: #FFFFFF;\n",
              "    }\n",
              "  </style>\n",
              "\n",
              "      <script>\n",
              "        const buttonEl =\n",
              "          document.querySelector('#df-124fb47e-9fec-4005-bbf6-55d9454ed154 button.colab-df-convert');\n",
              "        buttonEl.style.display =\n",
              "          google.colab.kernel.accessAllowed ? 'block' : 'none';\n",
              "\n",
              "        async function convertToInteractive(key) {\n",
              "          const element = document.querySelector('#df-124fb47e-9fec-4005-bbf6-55d9454ed154');\n",
              "          const dataTable =\n",
              "            await google.colab.kernel.invokeFunction('convertToInteractive',\n",
              "                                                     [key], {});\n",
              "          if (!dataTable) return;\n",
              "\n",
              "          const docLinkHtml = 'Like what you see? Visit the ' +\n",
              "            '<a target=\"_blank\" href=https://colab.research.google.com/notebooks/data_table.ipynb>data table notebook</a>'\n",
              "            + ' to learn more about interactive tables.';\n",
              "          element.innerHTML = '';\n",
              "          dataTable['output_type'] = 'display_data';\n",
              "          await google.colab.output.renderOutput(dataTable, element);\n",
              "          const docLink = document.createElement('div');\n",
              "          docLink.innerHTML = docLinkHtml;\n",
              "          element.appendChild(docLink);\n",
              "        }\n",
              "      </script>\n",
              "    </div>\n",
              "  </div>\n",
              "  "
            ]
          },
          "metadata": {},
          "execution_count": 10
        }
      ]
    },
    {
      "cell_type": "code",
      "source": [
        "X = df.iloc[:, :-1].values\n",
        "y = df.iloc[:, -1].values"
      ],
      "metadata": {
        "id": "tVd2ZXBWFgps"
      },
      "execution_count": null,
      "outputs": []
    },
    {
      "cell_type": "code",
      "source": [
        "from sklearn.model_selection import train_test_split"
      ],
      "metadata": {
        "id": "7iyT0y1aJnea"
      },
      "execution_count": null,
      "outputs": []
    },
    {
      "cell_type": "code",
      "source": [
        "X_train, X_test, y_train, y_test = train_test_split(X, y, test_size = 0.2, random_state = 0)"
      ],
      "metadata": {
        "id": "sCqpmga2Jzqq"
      },
      "execution_count": null,
      "outputs": []
    },
    {
      "cell_type": "code",
      "source": [
        "Selected_Features = []\n",
        "import statsmodels.api as sm\n",
        "\n",
        "def backward_regression(X, y, initial_list = [], threshold_out = 0.05, verbose = True):\n",
        "  included = list(X.columns)\n",
        "  while True:\n",
        "    changed = False\n",
        "    model = sm.OLS(y, sm.add_constant(pd.DataFrame(X[included]))).fit()\n",
        "\n",
        "    pvalues = model.pvalues.iloc[1:]\n",
        "    worst_pval = pvalues.max()\n",
        "    if worst_pval > threshold_out:\n",
        "      changed = True\n",
        "      worst_feature = pvalues.idxmax()\n",
        "      included.remove(worst_feature)\n",
        "\n",
        "      if verbose:\n",
        "        print(f\"worst_feature : {worst_feature}, {worst_pval}\")\n",
        "\n",
        "    if not changed:\n",
        "      break\n",
        "\n",
        "  Selected_Features.append(included)\n",
        "  print(f\"\\nSelected Features : \\n {Selected_Features[0]}\")\n",
        "\n",
        "XX = df.iloc[: , :-1]\n",
        "yy = df.iloc[:, -1]\n",
        "backward_regression(XX, yy)"
      ],
      "metadata": {
        "colab": {
          "base_uri": "https://localhost:8080/"
        },
        "id": "Sy749mrVKCGT",
        "outputId": "bf63f536-e933-4238-9c65-885c06bd6b04"
      },
      "execution_count": null,
      "outputs": [
        {
          "output_type": "stream",
          "name": "stdout",
          "text": [
            "\n",
            "Selected Features : \n",
            " ['Test_Cell_Temp[C]', 'Test_Cell_RH[%]', 'Dyno_Tractive_Effort[N]', 'Accelerator_Pedal_Position[%]', 'HV_Battery_Current[A]', 'HV_Battery_Voltage[V]', 'Motor_Speed[rpm]']\n"
          ]
        }
      ]
    },
    {
      "cell_type": "markdown",
      "source": [
        "Random Forest"
      ],
      "metadata": {
        "id": "_wI74PU82m7m"
      }
    },
    {
      "cell_type": "code",
      "source": [
        "from sklearn.ensemble import RandomForestRegressor\n",
        "start = time.time()\n",
        "model = RandomForestRegressor(n_jobs= -1,\n",
        "                              n_estimators= 100,\n",
        "                              min_samples_leaf= 1,\n",
        "                              max_features= 'sqrt',\n",
        "                              bootstrap= True,\n",
        "                              criterion= 'friedman_mse',\n",
        "                              ).fit(X_train, y_train)\n",
        "end_train = time.time()"
      ],
      "metadata": {
        "id": "SvCik65pMz5Z"
      },
      "execution_count": null,
      "outputs": []
    },
    {
      "cell_type": "code",
      "source": [
        "y_predictions = model.predict(X_test)\n",
        "end_predict = time.time()"
      ],
      "metadata": {
        "id": "beIZ0sNKPc34"
      },
      "execution_count": null,
      "outputs": []
    },
    {
      "cell_type": "code",
      "source": [
        "print(end_train - start)\n",
        "print(end_predict - end_train)"
      ],
      "metadata": {
        "colab": {
          "base_uri": "https://localhost:8080/"
        },
        "id": "PVyc3KhNG-wP",
        "outputId": "bec81b75-fc93-45e1-809b-bbb8084ad3b5"
      },
      "execution_count": null,
      "outputs": [
        {
          "output_type": "stream",
          "name": "stdout",
          "text": [
            "129.93624925613403\n",
            "22.222153663635254\n"
          ]
        }
      ]
    },
    {
      "cell_type": "code",
      "source": [
        "print('R- squared value: '+ \"{:.2%}\".format(model.score(X_test, y_test)))"
      ],
      "metadata": {
        "colab": {
          "base_uri": "https://localhost:8080/"
        },
        "id": "Jki6othuQIQY",
        "outputId": "f2e0673b-b226-4dc8-953b-a86bdc46e572"
      },
      "execution_count": null,
      "outputs": [
        {
          "output_type": "stream",
          "name": "stdout",
          "text": [
            "R- squared value: 99.98%\n"
          ]
        }
      ]
    },
    {
      "cell_type": "code",
      "source": [
        "from sklearn.metrics import mean_squared_error\n",
        "print('Root Mean Squared Error: '+ \"{:.2f}\".format(mean_squared_error(y_test, y_predictions, squared = False)))"
      ],
      "metadata": {
        "colab": {
          "base_uri": "https://localhost:8080/"
        },
        "id": "VeTr4VRZQouZ",
        "outputId": "e960c748-441e-4469-e27d-e5fe093ce206"
      },
      "execution_count": null,
      "outputs": [
        {
          "output_type": "stream",
          "name": "stdout",
          "text": [
            "Root Mean Squared Error: 0.48\n"
          ]
        }
      ]
    },
    {
      "cell_type": "code",
      "source": [
        "m1 = model.predict([[34.609, 71.085, -11.381, 1, 0.508, 310.592, -1]])"
      ],
      "metadata": {
        "id": "yM-wSyQKQ5Yo"
      },
      "execution_count": null,
      "outputs": []
    },
    {
      "cell_type": "code",
      "source": [
        "m1[0]"
      ],
      "metadata": {
        "colab": {
          "base_uri": "https://localhost:8080/"
        },
        "id": "vZec33sXb_90",
        "outputId": "cd9f5d09-b32a-4e19-e1ab-4971d9acd9b2"
      },
      "execution_count": null,
      "outputs": [
        {
          "output_type": "execute_result",
          "data": {
            "text/plain": [
              "66.05097000000006"
            ]
          },
          "metadata": {},
          "execution_count": 21
        }
      ]
    },
    {
      "cell_type": "code",
      "source": [
        "plt.scatter(X_test[:, -3], y_test, color ='red')"
      ],
      "metadata": {
        "colab": {
          "base_uri": "https://localhost:8080/",
          "height": 448
        },
        "id": "v1rvU-ScXhxB",
        "outputId": "ffb37984-ceb8-4d98-d894-6bc1b636e8bd"
      },
      "execution_count": null,
      "outputs": [
        {
          "output_type": "execute_result",
          "data": {
            "text/plain": [
              "<matplotlib.collections.PathCollection at 0x7f9bb20ac760>"
            ]
          },
          "metadata": {},
          "execution_count": 22
        },
        {
          "output_type": "display_data",
          "data": {
            "text/plain": [
              "<Figure size 640x480 with 1 Axes>"
            ],
            "image/png": "[encoded data removed]"
          },
          "metadata": {}
        }
      ]
    },
    {
      "cell_type": "code",
      "source": [
        "threshold = 0.5\n",
        "correct_predictions = np.abs(np.array(y_test)- np.array(y_predictions)) <= threshold\n",
        "accuracy1 = (np.sum(correct_predictions) / len(y_test))*100\n",
        "print(accuracy1)"
      ],
      "metadata": {
        "colab": {
          "base_uri": "https://localhost:8080/"
        },
        "id": "zHJhS1IddFUk",
        "outputId": "9d9e5114-7033-42aa-be19-b25513dbf98d"
      },
      "execution_count": null,
      "outputs": [
        {
          "output_type": "stream",
          "name": "stdout",
          "text": [
            "95.35922636253744\n"
          ]
        }
      ]
    },
    {
      "cell_type": "code",
      "source": [
        "model_performance.loc['Random Forest'] = [model.score(X_test, y_test),\n",
        "                                          (mean_squared_error(y_test, y_predictions, squared = False)),\n",
        "                                          accuracy1,\n",
        "                                          m1[0],\n",
        "                                          end_train - start,\n",
        "                                          end_predict - end_train,\n",
        "                                          end_predict - start]"
      ],
      "metadata": {
        "id": "mKms0xOGcIx5"
      },
      "execution_count": null,
      "outputs": []
    },
    {
      "cell_type": "markdown",
      "source": [
        "KNN"
      ],
      "metadata": {
        "id": "VrgNCDuY1G4P"
      }
    },
    {
      "cell_type": "code",
      "source": [
        "from sklearn.neighbors import KNeighborsRegressor\n",
        "start1 = time.time()\n",
        "model1 = KNeighborsRegressor(n_neighbors= 3).fit(X_train, y_train)\n",
        "end_train1 = time.time()"
      ],
      "metadata": {
        "id": "1Xb42RucACGR"
      },
      "execution_count": null,
      "outputs": []
    },
    {
      "cell_type": "code",
      "source": [
        "y_predictions1 = model1.predict(X_test)\n",
        "end_predict1 = time.time()"
      ],
      "metadata": {
        "id": "cwddYNnWAHGQ"
      },
      "execution_count": null,
      "outputs": []
    },
    {
      "cell_type": "code",
      "source": [
        "print('R-squared value: ' + \"{:.2%}\".format(model1.score(X_test, y_test)))"
      ],
      "metadata": {
        "colab": {
          "base_uri": "https://localhost:8080/"
        },
        "id": "gVhmuBwYIRVe",
        "outputId": "707f1b3c-d608-4ddd-b994-7973efcb02f2"
      },
      "execution_count": null,
      "outputs": [
        {
          "output_type": "stream",
          "name": "stdout",
          "text": [
            "R-squared value: 92.09%\n"
          ]
        }
      ]
    },
    {
      "cell_type": "code",
      "source": [
        "print('Root Mean Squared Error: ' + \"{:.2f}\".format(mean_squared_error(y_test, y_predictions1, squared = False)))"
      ],
      "metadata": {
        "colab": {
          "base_uri": "https://localhost:8080/"
        },
        "id": "biADAbSFIfGO",
        "outputId": "f0d03b4e-a1ba-4039-cc98-31215084f7c8"
      },
      "execution_count": null,
      "outputs": [
        {
          "output_type": "stream",
          "name": "stdout",
          "text": [
            "Root Mean Squared Error: 9.17\n"
          ]
        }
      ]
    },
    {
      "cell_type": "code",
      "source": [
        "m2 = model1.predict([[34.609, 71.085, -11.381, 1, 0.508, 310.592, -1]])\n",
        "m2[0]"
      ],
      "metadata": {
        "id": "T_90Zf9VPQDn",
        "colab": {
          "base_uri": "https://localhost:8080/"
        },
        "outputId": "5f0def75-d4d6-4f63-da61-8c41d2c6132e"
      },
      "execution_count": null,
      "outputs": [
        {
          "output_type": "execute_result",
          "data": {
            "text/plain": [
              "57.79999999999999"
            ]
          },
          "metadata": {},
          "execution_count": 29
        }
      ]
    },
    {
      "cell_type": "markdown",
      "source": [],
      "metadata": {
        "id": "SmDduI9oHYea"
      }
    },
    {
      "cell_type": "code",
      "source": [
        "threshold = 0.5\n",
        "correct_predictions = np.abs(np.array(y_test)- np.array(y_predictions1)) <= threshold\n",
        "accuracy2 = (np.sum(correct_predictions) / len(y_test))*100\n",
        "print(accuracy2)"
      ],
      "metadata": {
        "colab": {
          "base_uri": "https://localhost:8080/"
        },
        "id": "44JmkHMtQeCJ",
        "outputId": "58238af6-76e9-4425-f4da-40a4f082e48d"
      },
      "execution_count": null,
      "outputs": [
        {
          "output_type": "stream",
          "name": "stdout",
          "text": [
            "57.66367092377499\n"
          ]
        }
      ]
    },
    {
      "cell_type": "code",
      "source": [
        "model_performance.loc['KNN'] = [model1.score(X_test, y_test),\n",
        "                                (mean_squared_error(y_test, y_predictions1, squared = False)),\n",
        "                                          accuracy2,\n",
        "                                          m2[0],\n",
        "                                          end_train1 - start1,\n",
        "                                          end_predict1 - end_train1,\n",
        "                                          end_predict1 - start1]"
      ],
      "metadata": {
        "id": "q-oIh_rfdjWi"
      },
      "execution_count": null,
      "outputs": []
    },
    {
      "cell_type": "markdown",
      "source": [
        "Extra Tree Regressor"
      ],
      "metadata": {
        "id": "RsWS_wLpJqHc"
      }
    },
    {
      "cell_type": "code",
      "source": [
        "from sklearn.ensemble import ExtraTreesRegressor\n",
        "start2 = time.time()\n",
        "model2 = ExtraTreesRegressor()\n",
        "model2.fit(X_train, y_train)\n",
        "end_train2 = time.time()"
      ],
      "metadata": {
        "id": "F-r9n8jjIzge"
      },
      "execution_count": null,
      "outputs": []
    },
    {
      "cell_type": "code",
      "source": [
        "y_predictions2 = model2.predict(X_test)\n",
        "end_predict2 = time.time()"
      ],
      "metadata": {
        "id": "I00gX4WnKAlu"
      },
      "execution_count": null,
      "outputs": []
    },
    {
      "cell_type": "code",
      "source": [
        "threshold = 0.5\n",
        "correct_predictions = np.abs(np.array(y_test)- np.array(y_predictions2)) <= threshold\n",
        "accuracy3 = (np.sum(correct_predictions) / len(y_test))*100\n",
        "print(accuracy3)"
      ],
      "metadata": {
        "colab": {
          "base_uri": "https://localhost:8080/"
        },
        "id": "h-Pb8m_LPvNs",
        "outputId": "0631628c-9b4a-4860-eb0d-60fb093fb6e6"
      },
      "execution_count": null,
      "outputs": [
        {
          "output_type": "stream",
          "name": "stdout",
          "text": [
            "98.53541458628966\n"
          ]
        }
      ]
    },
    {
      "cell_type": "code",
      "source": [
        "m3 = model2.predict([[34.609, 71.085, -11.381, 1, 0.508, 310.592, -1]])\n",
        "m3[0]"
      ],
      "metadata": {
        "id": "bhxrmq2ZQxvk",
        "colab": {
          "base_uri": "https://localhost:8080/"
        },
        "outputId": "a3801f2e-ba90-46ad-c596-056c954cc0e3"
      },
      "execution_count": null,
      "outputs": [
        {
          "output_type": "execute_result",
          "data": {
            "text/plain": [
              "63.592020000000026"
            ]
          },
          "metadata": {},
          "execution_count": 36
        }
      ]
    },
    {
      "cell_type": "code",
      "source": [
        "print('R-squared value: ' + \"{:.2%}\".format(model2.score(X_test, y_test)))"
      ],
      "metadata": {
        "colab": {
          "base_uri": "https://localhost:8080/"
        },
        "id": "-uL6DNgLQzab",
        "outputId": "7fa94c79-885f-43fb-c659-72d96610b544"
      },
      "execution_count": null,
      "outputs": [
        {
          "output_type": "stream",
          "name": "stdout",
          "text": [
            "R-squared value: 99.98%\n"
          ]
        }
      ]
    },
    {
      "cell_type": "code",
      "source": [
        "print('Root Mean Squared Error: ' + \"{:.2f}\".format(mean_squared_error(y_test, y_predictions2, squared = False)))"
      ],
      "metadata": {
        "colab": {
          "base_uri": "https://localhost:8080/"
        },
        "id": "gctkMXZ-Q6Gc",
        "outputId": "b9724501-2b03-4726-d950-75638669092e"
      },
      "execution_count": null,
      "outputs": [
        {
          "output_type": "stream",
          "name": "stdout",
          "text": [
            "Root Mean Squared Error: 0.49\n"
          ]
        }
      ]
    },
    {
      "cell_type": "code",
      "source": [
        "model_performance.loc['Extra Trees Regressor'] = [model2.score(X_test, y_test),\n",
        "                                                  (mean_squared_error(y_test, y_predictions2, squared = False)),\n",
        "                                          accuracy3,\n",
        "                                          m3[0],\n",
        "                                          end_train2 - start2,\n",
        "                                          end_predict2 - end_train2,\n",
        "                                          end_predict2 - start2]"
      ],
      "metadata": {
        "id": "8ujdorIpebD8"
      },
      "execution_count": null,
      "outputs": []
    },
    {
      "cell_type": "markdown",
      "source": [
        "#Extreme Gradient Boosting"
      ],
      "metadata": {
        "id": "_r9GZNnNSZtS"
      }
    },
    {
      "cell_type": "code",
      "source": [
        "\n",
        "import xgboost as xgb\n",
        "from sklearn.metrics import r2_score\n",
        "start3 = time.time()\n",
        "dtrain = xgb.DMatrix(X_train, label = y_train)\n",
        "dtest = xgb.DMatrix(X_test, label = y_test)\n",
        "params = {\n",
        "    'objective' : 'reg:squarederror',\n",
        "    'max_depth' : 3,\n",
        "    'learning_rate' : 0.1,\n",
        "    'n_estimators' : 100,\n",
        "}\n",
        "\n",
        "model3 = xgb.train(params, dtrain)\n",
        "end_train3 = time.time()"
      ],
      "metadata": {
        "colab": {
          "base_uri": "https://localhost:8080/"
        },
        "id": "5qbckTXkQ_mr",
        "outputId": "a490d42a-af50-4dec-9cb5-17d740431224"
      },
      "execution_count": null,
      "outputs": [
        {
          "output_type": "stream",
          "name": "stdout",
          "text": [
            "[17:35:21] WARNING: ../src/learner.cc:767: \n",
            "Parameters: { \"n_estimators\" } are not used.\n",
            "\n"
          ]
        }
      ]
    },
    {
      "cell_type": "code",
      "source": [],
      "metadata": {
        "id": "7-pgo3fKGdGw"
      },
      "execution_count": null,
      "outputs": []
    },
    {
      "cell_type": "code",
      "source": [
        "y_predictions3 = model3.predict(dtest)\n",
        "end_predict3 = time.time()"
      ],
      "metadata": {
        "id": "6kFK4xo9TUxL"
      },
      "execution_count": null,
      "outputs": []
    },
    {
      "cell_type": "code",
      "source": [
        "\n",
        "\n",
        "# Assuming you have already trained an XGBoost model and made predictions\n",
        "\n",
        "# Calculate R-squared value\n",
        "r22 = r2_score(y_test, y_predictions3)\n",
        "print(\"R-squared value: \", r22)\n"
      ],
      "metadata": {
        "colab": {
          "base_uri": "https://localhost:8080/"
        },
        "id": "Ckek1y6ELS_O",
        "outputId": "d3ff1de4-639e-4307-828f-4da821bfda33"
      },
      "execution_count": null,
      "outputs": [
        {
          "output_type": "stream",
          "name": "stdout",
          "text": [
            "R-squared value:  0.4232494454659159\n"
          ]
        }
      ]
    },
    {
      "cell_type": "code",
      "source": [
        "print('Root Mean Squared Error: ' + \"{:.2f}\".format(mean_squared_error(y_test, y_predictions3, squared = False)))"
      ],
      "metadata": {
        "colab": {
          "base_uri": "https://localhost:8080/"
        },
        "id": "3MVY2VYHGi5W",
        "outputId": "aaf87c81-bee4-48dc-b949-27d5cd176bbf"
      },
      "execution_count": null,
      "outputs": [
        {
          "output_type": "stream",
          "name": "stdout",
          "text": [
            "Root Mean Squared Error: 24.77\n"
          ]
        }
      ]
    },
    {
      "cell_type": "code",
      "source": [
        "threshold = 0.5\n",
        "correct_predictions = np.abs(np.array(y_test)- np.array(y_predictions3)) <= threshold\n",
        "accuracy4 = (np.sum(correct_predictions) / len(y_test))*100\n",
        "print(accuracy4)"
      ],
      "metadata": {
        "colab": {
          "base_uri": "https://localhost:8080/"
        },
        "id": "mPLaeQpGTwlr",
        "outputId": "cdc39687-2daa-43bd-d74b-c2bed5ddfd2b"
      },
      "execution_count": null,
      "outputs": [
        {
          "output_type": "stream",
          "name": "stdout",
          "text": [
            "0.9556595014102767\n"
          ]
        }
      ]
    },
    {
      "cell_type": "code",
      "source": [
        "new_data_point = [34.609, 71.085, -11.381, 1, 0.508, 310.592, -1]\n",
        "dnew = xgb.DMatrix([new_data_point])\n",
        "m4 = model3.predict(dnew)"
      ],
      "metadata": {
        "id": "D9e0cyTuT2Jb"
      },
      "execution_count": null,
      "outputs": []
    },
    {
      "cell_type": "code",
      "source": [
        "r2 = model3.eval(dtest)\n",
        "r2 = model3.eval(dtest)\n",
        "eval_rmse = float(r2.split(':')[1].strip().split()[0])\n",
        "rounded_eval_rmse = round(eval_rmse, 2)\n",
        "print(rounded_eval_rmse)\n",
        "\n"
      ],
      "metadata": {
        "colab": {
          "base_uri": "https://localhost:8080/"
        },
        "id": "uib7ZR_gfa53",
        "outputId": "eee358b6-6c53-4972-9b24-7286102b5592"
      },
      "execution_count": null,
      "outputs": [
        {
          "output_type": "stream",
          "name": "stdout",
          "text": [
            "24.77\n"
          ]
        }
      ]
    },
    {
      "cell_type": "code",
      "source": [
        "r21 = rounded_eval_rmse /100"
      ],
      "metadata": {
        "id": "sns5lt1nNzGz"
      },
      "execution_count": null,
      "outputs": []
    },
    {
      "cell_type": "code",
      "source": [
        "model_performance.loc['Extreme Gradient Boosting'] = [r22,\n",
        "                                               (mean_squared_error(y_test, y_predictions3, squared = False)),\n",
        "                                          accuracy4,\n",
        "                                         m4[0],\n",
        "                                          end_train3 - start3,\n",
        "                                         end_predict3 - end_train3,\n",
        "                                         end_predict3 - start3]"
      ],
      "metadata": {
        "id": "T2j5rCArT8Zs"
      },
      "execution_count": null,
      "outputs": []
    },
    {
      "cell_type": "markdown",
      "source": [
        "#Gradient Boosting"
      ],
      "metadata": {
        "id": "OCA8OBZtS83a"
      }
    },
    {
      "cell_type": "code",
      "source": [
        "X_train1 = X_train\n",
        "X_test1 = X_test\n",
        "y_train1 = y_train\n",
        "y_test1 = y_test"
      ],
      "metadata": {
        "id": "wpHFoLvLdpht"
      },
      "execution_count": null,
      "outputs": []
    },
    {
      "cell_type": "code",
      "source": [
        "from sklearn.preprocessing import MinMaxScaler, StandardScaler\n",
        "sc = MinMaxScaler()\n",
        "X_train1 = sc.fit_transform(X_train1)\n",
        "X_test1 = sc.transform(X_test1)"
      ],
      "metadata": {
        "id": "avcH23Zsdhg3"
      },
      "execution_count": null,
      "outputs": []
    },
    {
      "cell_type": "code",
      "source": [
        "from sklearn.ensemble import GradientBoostingRegressor\n",
        "from sklearn.metrics import mean_squared_error\n",
        "import numpy as np\n",
        "\n",
        "# Initialize individual models\n",
        "gradient_boosting = GradientBoostingRegressor()\n",
        "\n",
        "# Train individual models\n",
        "start4 = time.time()\n",
        "gradient_boosting.fit(X_train1, y_train1)\n",
        "end_train4 = time.time()\n",
        "\n",
        "# Make predictions on the testing set\n",
        "gb_predictions = gradient_boosting.predict(X_test1)\n",
        "end_predict4 = time.time()\n",
        "\n",
        "\n",
        "\n",
        "# Calculate the performance of the ensemble model\n",
        "gb_mse = (mean_squared_error(y_test1, gb_predictions))\n",
        "gb_rmse = np.sqrt(gb_mse)\n",
        "\n",
        "# Print the performance metrics\n",
        "print(\"gb RMSE:\", gb_rmse)\n"
      ],
      "metadata": {
        "id": "Sm_2mCTy1OLW",
        "colab": {
          "base_uri": "https://localhost:8080/"
        },
        "outputId": "a7d79b0d-435c-42c2-e5b6-4655a61d7fdb"
      },
      "execution_count": null,
      "outputs": [
        {
          "output_type": "stream",
          "name": "stdout",
          "text": [
            "gb RMSE: 4.397135174577251\n"
          ]
        }
      ]
    },
    {
      "cell_type": "code",
      "source": [
        " [(gradient_boosting.score(X_test1, y_test1))]"
      ],
      "metadata": {
        "colab": {
          "base_uri": "https://localhost:8080/"
        },
        "id": "uaU5j70iW2vE",
        "outputId": "2a5559ac-b4c7-4b8b-959f-131cd9ce316c"
      },
      "execution_count": null,
      "outputs": [
        {
          "output_type": "execute_result",
          "data": {
            "text/plain": [
              "[0.98182653660584]"
            ]
          },
          "metadata": {},
          "execution_count": 53
        }
      ]
    },
    {
      "cell_type": "code",
      "source": [
        "print('Root Mean Squared Error: ' + \"{:.2f}\".format(mean_squared_error(y_test1, gb_predictions, squared = False)))"
      ],
      "metadata": {
        "colab": {
          "base_uri": "https://localhost:8080/"
        },
        "id": "RfcAk0fu_dfF",
        "outputId": "19e27558-e03c-49a7-e05b-12cf5b22d241"
      },
      "execution_count": null,
      "outputs": [
        {
          "output_type": "stream",
          "name": "stdout",
          "text": [
            "Root Mean Squared Error: 4.40\n"
          ]
        }
      ]
    },
    {
      "cell_type": "code",
      "source": [
        "threshold = 0.5\n",
        "correct_predictions = np.abs(np.array(y_test1)- np.array(gb_predictions)) <= threshold\n",
        "accuracy4 = (np.sum(correct_predictions) / len(y_test1))*100\n",
        "print(accuracy4)"
      ],
      "metadata": {
        "colab": {
          "base_uri": "https://localhost:8080/"
        },
        "id": "uAuejrvzW7Ov",
        "outputId": "e09f55a9-a989-43b1-d68e-6c515be5c46c"
      },
      "execution_count": null,
      "outputs": [
        {
          "output_type": "stream",
          "name": "stdout",
          "text": [
            "14.520593542509767\n"
          ]
        }
      ]
    },
    {
      "cell_type": "code",
      "source": [
        "m4 = gradient_boosting.predict(sc.transform([[34.609, 71.085, -11.381, 1, 0.508, 310.592, -1]]))\n",
        "m4"
      ],
      "metadata": {
        "colab": {
          "base_uri": "https://localhost:8080/"
        },
        "id": "EII_7TMxXQbv",
        "outputId": "bf8c20c4-d7f6-47d7-fdc0-11517261166a"
      },
      "execution_count": null,
      "outputs": [
        {
          "output_type": "execute_result",
          "data": {
            "text/plain": [
              "array([59.85528106])"
            ]
          },
          "metadata": {},
          "execution_count": 56
        }
      ]
    },
    {
      "cell_type": "code",
      "source": [
        "model_performance.loc['Gradient Boosting'] = [[(gradient_boosting.score(X_test, y_test))],\n",
        "                               gb_rmse,\n",
        "                                          accuracy4,\n",
        "                                          m4[0],\n",
        "                                          end_train4 - start4,\n",
        "                                          end_predict4 - end_train4,\n",
        "                                          end_predict4 - start4]"
      ],
      "metadata": {
        "colab": {
          "base_uri": "https://localhost:8080/"
        },
        "id": "aV35B805Xrm_",
        "outputId": "232917bf-6b84-4e49-e6d6-86d6480d8640"
      },
      "execution_count": null,
      "outputs": [
        {
          "output_type": "stream",
          "name": "stderr",
          "text": [
            "/usr/local/lib/python3.10/dist-packages/pandas/core/dtypes/cast.py:948: VisibleDeprecationWarning: Creating an ndarray from ragged nested sequences (which is a list-or-tuple of lists-or-tuples-or ndarrays with different lengths or shapes) is deprecated. If you meant to do this, you must specify 'dtype=object' when creating the ndarray.\n",
            "  element = np.asarray(element)\n"
          ]
        }
      ]
    },
    {
      "cell_type": "markdown",
      "source": [
        "#Ensemble"
      ],
      "metadata": {
        "id": "CwGWZFHNYG5V"
      }
    },
    {
      "cell_type": "code",
      "source": [
        "from sklearn.ensemble import RandomForestRegressor, GradientBoostingRegressor\n",
        "from sklearn.metrics import mean_squared_error\n",
        "import numpy as np\n",
        "\n",
        "# Initialize individual models\n",
        "random_forest = RandomForestRegressor()\n",
        "gradient_boosting = GradientBoostingRegressor()\n",
        "\n",
        "# Train individual models\n",
        "start5 = time.time()\n",
        "random_forest.fit(X_train2, y_train2)\n",
        "gradient_boosting.fit(X_train2, y_train2)\n",
        "end_train5 = time.time()\n",
        "\n",
        "# Make predictions on the testing set\n",
        "rf_predictions = random_forest.predict(X_test2)\n",
        "gb_predictions = gradient_boosting.predict(X_test2)\n",
        "end_predict5 = time.time()\n",
        "\n",
        "# Create an ensemble prediction by averaging the individual model predictions\n",
        "ensemble_predictions = (rf_predictions + gb_predictions) / 2\n",
        "\n",
        "# Calculate the performance of the ensemble model\n",
        "ensemble_mse = (mean_squared_error(y_test, ensemble_predictions))\n",
        "ensemble_rmse = np.sqrt(ensemble_mse)\n",
        "\n",
        "# Print the performance metrics\n",
        "print(\"Ensemble RMSE:\", ensemble_rmse)\n"
      ],
      "metadata": {
        "colab": {
          "base_uri": "https://localhost:8080/"
        },
        "id": "M1y8LiuBYKXP",
        "outputId": "91c44463-afee-4aa4-a23e-ae0a47e55f59"
      },
      "execution_count": null,
      "outputs": [
        {
          "output_type": "stream",
          "name": "stdout",
          "text": [
            "Ensemble RMSE: 2.3192324944369416\n"
          ]
        }
      ]
    },
    {
      "cell_type": "code",
      "source": [
        "RMSE_ensemble = [(mean_squared_error(y_test, rf_predictions, squared = False)) + (mean_squared_error(y_test, gb_predictions, squared = False))]\n",
        "RMSE_ensemble = RMSE_ensemble[0] / 2\n",
        "RMSE_ensemble"
      ],
      "metadata": {
        "colab": {
          "base_uri": "https://localhost:8080/"
        },
        "id": "JpOxMEYoagrO",
        "outputId": "0dcf938b-2182-43c9-ff70-da87d36b4832"
      },
      "execution_count": null,
      "outputs": [
        {
          "output_type": "execute_result",
          "data": {
            "text/plain": [
              "2.6114924298044317"
            ]
          },
          "metadata": {},
          "execution_count": 78
        }
      ]
    },
    {
      "cell_type": "code",
      "source": [
        "r2_ensemble = [(random_forest.score(X_test, y_test)) + (gradient_boosting.score(X_test, y_test))]\n",
        "r2_ensemble = r2_ensemble[0]/2\n",
        "r2_ensemble"
      ],
      "metadata": {
        "colab": {
          "base_uri": "https://localhost:8080/"
        },
        "id": "TaX99Hn4akC2",
        "outputId": "e3557bd1-f163-47fb-fdc7-294c4fdb363a"
      },
      "execution_count": null,
      "outputs": [
        {
          "output_type": "execute_result",
          "data": {
            "text/plain": [
              "-3.258755063274961"
            ]
          },
          "metadata": {},
          "execution_count": 79
        }
      ]
    },
    {
      "cell_type": "code",
      "source": [
        "threshold = 0.5\n",
        "correct_predictions = np.abs(np.array(y_test)- np.array(ensemble_predictions)) <= threshold\n",
        "accuracy5 = (np.sum(correct_predictions) / len(y_test))*100\n",
        "print(accuracy5)"
      ],
      "metadata": {
        "colab": {
          "base_uri": "https://localhost:8080/"
        },
        "id": "DWSlSyJfaoHf",
        "outputId": "177f18be-7734-4b00-ea79-691e362b6c9b"
      },
      "execution_count": null,
      "outputs": [
        {
          "output_type": "stream",
          "name": "stdout",
          "text": [
            "30.233352604194042\n"
          ]
        }
      ]
    },
    {
      "cell_type": "code",
      "source": [
        "m1 = random_forest.predict(([[34.609, 71.085, -11.381, 1, 0.508, 310.592, -1]]))\n",
        "m2 = gradient_boosting.predict(([[34.609, 71.085, -11.381, 1, 0.508, 310.592, -1]]))"
      ],
      "metadata": {
        "id": "iajJEYQKa2Zg"
      },
      "execution_count": null,
      "outputs": []
    },
    {
      "cell_type": "code",
      "source": [
        "l = (m1+m2)/2\n",
        "l"
      ],
      "metadata": {
        "colab": {
          "base_uri": "https://localhost:8080/"
        },
        "id": "kbmD8Ln_bA7u",
        "outputId": "5928836e-0a85-491b-df0c-b1d0e5b66a78"
      },
      "execution_count": null,
      "outputs": [
        {
          "output_type": "execute_result",
          "data": {
            "text/plain": [
              "array([59.63814034])"
            ]
          },
          "metadata": {},
          "execution_count": 60
        }
      ]
    },
    {
      "cell_type": "code",
      "source": [
        "model_performance.loc['Ensemble'] = [r2_ensemble,\n",
        "                                    RMSE_ensemble,\n",
        "                                          accuracy5,\n",
        "                                          l[0],\n",
        "                                          end_train5 - start5,\n",
        "                                          end_predict5- end_train5,\n",
        "                                          end_predict5 - start5]"
      ],
      "metadata": {
        "id": "BXRKjHn9bEYO"
      },
      "execution_count": null,
      "outputs": []
    },
    {
      "cell_type": "code",
      "source": [
        "formatted_model_performance = model_performance.style.background_gradient(cmap='RdYlBu_r').format({\n",
        "    'R2 value': '{:.2%}',\n",
        "    'RMSE' : '{:.2f}',\n",
        "    'Accuracy (Threshold = 0.5)': '{:.2f}',\n",
        "    'Prediction': '{:.2f}',\n",
        "    'time to train': '{:.3f}',\n",
        "    'time to predict': '{:.3f}',\n",
        "    'total time': '{:.3f}'\n",
        "})\n",
        "\n",
        "formatted_model_performance\n"
      ],
      "metadata": {
        "colab": {
          "base_uri": "https://localhost:8080/",
          "height": 237
        },
        "id": "1FMKUaQMlqIl",
        "outputId": "ba9fa34e-4892-4bed-a5f6-5449a9c1b390"
      },
      "execution_count": null,
      "outputs": [
        {
          "output_type": "execute_result",
          "data": {
            "text/plain": [
              "<pandas.io.formats.style.Styler at 0x7fbed6011360>"
            ],
            "text/html": [
              "<style type=\"text/css\">\n",
              "#T_85ff3_row0_col1, #T_85ff3_row1_col4, #T_85ff3_row1_col6, #T_85ff3_row2_col1, #T_85ff3_row3_col2, #T_85ff3_row3_col3, #T_85ff3_row3_col5, #T_85ff3_row3_col6 {\n",
              "  background-color: #313695;\n",
              "  color: #f1f1f1;\n",
              "}\n",
              "#T_85ff3_row0_col2, #T_85ff3_row1_col2 {\n",
              "  background-color: #b50f26;\n",
              "  color: #f1f1f1;\n",
              "}\n",
              "#T_85ff3_row0_col3, #T_85ff3_row2_col2, #T_85ff3_row2_col5, #T_85ff3_row3_col1, #T_85ff3_row5_col4, #T_85ff3_row5_col6 {\n",
              "  background-color: #a50026;\n",
              "  color: #f1f1f1;\n",
              "}\n",
              "#T_85ff3_row0_col4, #T_85ff3_row0_col6 {\n",
              "  background-color: #99cae1;\n",
              "  color: #000000;\n",
              "}\n",
              "#T_85ff3_row0_col5 {\n",
              "  background-color: #feea9f;\n",
              "  color: #000000;\n",
              "}\n",
              "#T_85ff3_row1_col1 {\n",
              "  background-color: #c9e8f2;\n",
              "  color: #000000;\n",
              "}\n",
              "#T_85ff3_row1_col3 {\n",
              "  background-color: #fdc173;\n",
              "  color: #000000;\n",
              "}\n",
              "#T_85ff3_row1_col5 {\n",
              "  background-color: #fee597;\n",
              "  color: #000000;\n",
              "}\n",
              "#T_85ff3_row2_col3 {\n",
              "  background-color: #d62f27;\n",
              "  color: #f1f1f1;\n",
              "}\n",
              "#T_85ff3_row2_col4, #T_85ff3_row2_col6 {\n",
              "  background-color: #69a0ca;\n",
              "  color: #f1f1f1;\n",
              "}\n",
              "#T_85ff3_row3_col4 {\n",
              "  background-color: #323896;\n",
              "  color: #f1f1f1;\n",
              "}\n",
              "#T_85ff3_row4_col1 {\n",
              "  background-color: #6297c6;\n",
              "  color: #f1f1f1;\n",
              "}\n",
              "#T_85ff3_row4_col2 {\n",
              "  background-color: #578abf;\n",
              "  color: #f1f1f1;\n",
              "}\n",
              "#T_85ff3_row4_col3 {\n",
              "  background-color: #fa9656;\n",
              "  color: #000000;\n",
              "}\n",
              "#T_85ff3_row4_col4 {\n",
              "  background-color: #8ec2dc;\n",
              "  color: #000000;\n",
              "}\n",
              "#T_85ff3_row4_col5 {\n",
              "  background-color: #36459c;\n",
              "  color: #f1f1f1;\n",
              "}\n",
              "#T_85ff3_row4_col6 {\n",
              "  background-color: #8cc0db;\n",
              "  color: #000000;\n",
              "}\n",
              "#T_85ff3_row5_col1 {\n",
              "  background-color: #426cb0;\n",
              "  color: #f1f1f1;\n",
              "}\n",
              "#T_85ff3_row5_col2 {\n",
              "  background-color: #aad8e9;\n",
              "  color: #000000;\n",
              "}\n",
              "#T_85ff3_row5_col3 {\n",
              "  background-color: #fa9b58;\n",
              "  color: #000000;\n",
              "}\n",
              "#T_85ff3_row5_col5 {\n",
              "  background-color: #f57547;\n",
              "  color: #f1f1f1;\n",
              "}\n",
              "</style>\n",
              "<table id=\"T_85ff3\" class=\"dataframe\">\n",
              "  <thead>\n",
              "    <tr>\n",
              "      <th class=\"blank level0\" >&nbsp;</th>\n",
              "      <th id=\"T_85ff3_level0_col0\" class=\"col_heading level0 col0\" >R2 Value</th>\n",
              "      <th id=\"T_85ff3_level0_col1\" class=\"col_heading level0 col1\" >RMSE</th>\n",
              "      <th id=\"T_85ff3_level0_col2\" class=\"col_heading level0 col2\" >Accuracy (Threshold = 0.5)</th>\n",
              "      <th id=\"T_85ff3_level0_col3\" class=\"col_heading level0 col3\" >Prediction expected(65%)</th>\n",
              "      <th id=\"T_85ff3_level0_col4\" class=\"col_heading level0 col4\" >time to train(seconds)</th>\n",
              "      <th id=\"T_85ff3_level0_col5\" class=\"col_heading level0 col5\" >time to predict(seconds)</th>\n",
              "      <th id=\"T_85ff3_level0_col6\" class=\"col_heading level0 col6\" >total time(seconds)</th>\n",
              "    </tr>\n",
              "  </thead>\n",
              "  <tbody>\n",
              "    <tr>\n",
              "      <th id=\"T_85ff3_level0_row0\" class=\"row_heading level0 row0\" >Random Forest</th>\n",
              "      <td id=\"T_85ff3_row0_col0\" class=\"data row0 col0\" >0.999777</td>\n",
              "      <td id=\"T_85ff3_row0_col1\" class=\"data row0 col1\" >0.49</td>\n",
              "      <td id=\"T_85ff3_row0_col2\" class=\"data row0 col2\" >95.53</td>\n",
              "      <td id=\"T_85ff3_row0_col3\" class=\"data row0 col3\" >67.014070</td>\n",
              "      <td id=\"T_85ff3_row0_col4\" class=\"data row0 col4\" >148.313022</td>\n",
              "      <td id=\"T_85ff3_row0_col5\" class=\"data row0 col5\" >2.937698</td>\n",
              "      <td id=\"T_85ff3_row0_col6\" class=\"data row0 col6\" >151.250721</td>\n",
              "    </tr>\n",
              "    <tr>\n",
              "      <th id=\"T_85ff3_level0_row1\" class=\"row_heading level0 row1\" >KNN</th>\n",
              "      <td id=\"T_85ff3_row1_col0\" class=\"data row1 col0\" >0.920876</td>\n",
              "      <td id=\"T_85ff3_row1_col1\" class=\"data row1 col1\" >9.17</td>\n",
              "      <td id=\"T_85ff3_row1_col2\" class=\"data row1 col2\" >95.53</td>\n",
              "      <td id=\"T_85ff3_row1_col3\" class=\"data row1 col3\" >57.800000</td>\n",
              "      <td id=\"T_85ff3_row1_col4\" class=\"data row1 col4\" >1.379665</td>\n",
              "      <td id=\"T_85ff3_row1_col5\" class=\"data row1 col5\" >3.003967</td>\n",
              "      <td id=\"T_85ff3_row1_col6\" class=\"data row1 col6\" >4.383631</td>\n",
              "    </tr>\n",
              "    <tr>\n",
              "      <th id=\"T_85ff3_level0_row2\" class=\"row_heading level0 row2\" >Extra Trees Regressor</th>\n",
              "      <td id=\"T_85ff3_row2_col0\" class=\"data row2 col0\" >0.999780</td>\n",
              "      <td id=\"T_85ff3_row2_col1\" class=\"data row2 col1\" >0.48</td>\n",
              "      <td id=\"T_85ff3_row2_col2\" class=\"data row2 col2\" >98.60</td>\n",
              "      <td id=\"T_85ff3_row2_col3\" class=\"data row2 col3\" >64.245010</td>\n",
              "      <td id=\"T_85ff3_row2_col4\" class=\"data row2 col4\" >97.924476</td>\n",
              "      <td id=\"T_85ff3_row2_col5\" class=\"data row2 col5\" >5.128413</td>\n",
              "      <td id=\"T_85ff3_row2_col6\" class=\"data row2 col6\" >103.052889</td>\n",
              "    </tr>\n",
              "    <tr>\n",
              "      <th id=\"T_85ff3_level0_row3\" class=\"row_heading level0 row3\" >Extreme Gradient Boosting</th>\n",
              "      <td id=\"T_85ff3_row3_col0\" class=\"data row3 col0\" >0.423249</td>\n",
              "      <td id=\"T_85ff3_row3_col1\" class=\"data row3 col1\" >24.77</td>\n",
              "      <td id=\"T_85ff3_row3_col2\" class=\"data row3 col2\" >0.96</td>\n",
              "      <td id=\"T_85ff3_row3_col3\" class=\"data row3 col3\" >39.713783</td>\n",
              "      <td id=\"T_85ff3_row3_col4\" class=\"data row3 col4\" >4.480866</td>\n",
              "      <td id=\"T_85ff3_row3_col5\" class=\"data row3 col5\" >0.043114</td>\n",
              "      <td id=\"T_85ff3_row3_col6\" class=\"data row3 col6\" >4.523981</td>\n",
              "    </tr>\n",
              "    <tr>\n",
              "      <th id=\"T_85ff3_level0_row4\" class=\"row_heading level0 row4\" >Gradient Boosting</th>\n",
              "      <td id=\"T_85ff3_row4_col0\" class=\"data row4 col0\" >[-4.672191588852742]</td>\n",
              "      <td id=\"T_85ff3_row4_col1\" class=\"data row4 col1\" >4.40</td>\n",
              "      <td id=\"T_85ff3_row4_col2\" class=\"data row4 col2\" >14.52</td>\n",
              "      <td id=\"T_85ff3_row4_col3\" class=\"data row4 col3\" >59.855281</td>\n",
              "      <td id=\"T_85ff3_row4_col4\" class=\"data row4 col4\" >138.478370</td>\n",
              "      <td id=\"T_85ff3_row4_col5\" class=\"data row4 col5\" >0.170155</td>\n",
              "      <td id=\"T_85ff3_row4_col6\" class=\"data row4 col6\" >138.648525</td>\n",
              "    </tr>\n",
              "    <tr>\n",
              "      <th id=\"T_85ff3_level0_row5\" class=\"row_heading level0 row5\" >Ensemble</th>\n",
              "      <td id=\"T_85ff3_row5_col0\" class=\"data row5 col0\" >0.990597</td>\n",
              "      <td id=\"T_85ff3_row5_col1\" class=\"data row5 col1\" >2.61</td>\n",
              "      <td id=\"T_85ff3_row5_col2\" class=\"data row5 col2\" >30.24</td>\n",
              "      <td id=\"T_85ff3_row5_col3\" class=\"data row5 col3\" >59.638140</td>\n",
              "      <td id=\"T_85ff3_row5_col4\" class=\"data row5 col4\" >549.973771</td>\n",
              "      <td id=\"T_85ff3_row5_col5\" class=\"data row5 col5\" >4.048824</td>\n",
              "      <td id=\"T_85ff3_row5_col6\" class=\"data row5 col6\" >554.022595</td>\n",
              "    </tr>\n",
              "  </tbody>\n",
              "</table>\n"
            ]
          },
          "metadata": {},
          "execution_count": 62
        }
      ]
    },
    {
      "cell_type": "code",
      "source": [
        "# X_train3 = X_train\n",
        "# X_test3 = X_test\n",
        "# y_train3 = y_train\n",
        "# y_test3 = y_test"
      ],
      "metadata": {
        "id": "LJYOA5fOJT7p"
      },
      "execution_count": null,
      "outputs": []
    },
    {
      "cell_type": "code",
      "source": [
        "# from sklearn.preprocessing import MinMaxScaler, StandardScaler\n",
        "# sc = MinMaxScaler()\n",
        "# X_train3 = sc.fit_transform(X_train3)\n",
        "# X_test3 = sc.transform(X_test3)"
      ],
      "metadata": {
        "id": "PY7qNWS8Jb5w"
      },
      "execution_count": null,
      "outputs": []
    },
    {
      "cell_type": "code",
      "source": [
        "# # Import the necessary libraries\n",
        "# import xgboost as xgb\n",
        "# from sklearn.datasets import make_regression\n",
        "# #from sklearn.model_selection import train_test_split\n",
        "# from sklearn.metrics import mean_squared_error\n",
        "\n",
        "# # Generate a synthetic regression dataset\n",
        "# #X, y = make_regression(n_samples=1000, random_state=42)\n",
        "\n",
        "# # Split the data into training and testing sets\n",
        "# #X_train, X_test, y_train, y_test = train_test_split(X, y, test_size=0.2, random_state=42)\n",
        "\n",
        "# # Create a Gradient Boosting Regressor\n",
        "# gb_regressor = xgb.XGBRegressor(n_estimators=100, learning_rate=0.1, random_state=42)\n",
        "\n",
        "# # Train the model\n",
        "# gb_regressor.fit(X_train3, y_train3)\n",
        "\n",
        "# # Make predictions on the testing set\n",
        "# y_pred = gb_regressor.predict(X_test3)\n",
        "\n",
        "# # Evaluate the performance of the model\n",
        "# mse = mean_squared_error(y_test3, y_pred)\n",
        "# print(\"Mean Squared Error:\", mse)\n"
      ],
      "metadata": {
        "id": "NuqKN9YZm_rv",
        "colab": {
          "base_uri": "https://localhost:8080/"
        },
        "outputId": "579c362b-3046-49b5-aaf0-a03aab9d479b"
      },
      "execution_count": null,
      "outputs": [
        {
          "output_type": "stream",
          "name": "stdout",
          "text": [
            "Mean Squared Error: 2.95153208863551\n"
          ]
        }
      ]
    },
    {
      "cell_type": "code",
      "source": [
        "# threshold = 0.5\n",
        "# correct_predictions = np.abs(np.array(y_test)- np.array(y_pred)) <= threshold\n",
        "# accuracy6 = (np.sum(correct_predictions) / len(y_test))*100\n",
        "# print(accuracy6)"
      ],
      "metadata": {
        "id": "JopezzKwxuDB",
        "colab": {
          "base_uri": "https://localhost:8080/"
        },
        "outputId": "02047587-219f-48f7-945d-f52290ca6d81"
      },
      "execution_count": null,
      "outputs": [
        {
          "output_type": "stream",
          "name": "stdout",
          "text": [
            "49.66889157513008\n"
          ]
        }
      ]
    },
    {
      "cell_type": "code",
      "source": [
        "# print('R-squared value: ' + \"{:.2%}\".format(gb_regressor.score(X_test, y_test)))"
      ],
      "metadata": {
        "colab": {
          "base_uri": "https://localhost:8080/"
        },
        "id": "hrrTPnZSEttp",
        "outputId": "eb9b4e24-9ac7-4f94-df37-99736ff23355"
      },
      "execution_count": null,
      "outputs": [
        {
          "output_type": "stream",
          "name": "stdout",
          "text": [
            "R-squared value: 99.72%\n"
          ]
        }
      ]
    },
    {
      "cell_type": "code",
      "source": [
        "# print('Root Mean Squared Error: ' + \"{:.2f}\".format(mean_squared_error(y_test, y_pred, squared = False)))"
      ],
      "metadata": {
        "colab": {
          "base_uri": "https://localhost:8080/"
        },
        "id": "FuABVuTXE9Fu",
        "outputId": "0feb9079-cf22-4ace-aa8a-3e765be1f1e5"
      },
      "execution_count": null,
      "outputs": [
        {
          "output_type": "stream",
          "name": "stdout",
          "text": [
            "Root Mean Squared Error: 1.72\n"
          ]
        }
      ]
    },
    {
      "cell_type": "code",
      "source": [
        "# m6 = gb_regressor.predict(([[34.609, 71.085, -11.381, 1, 0.508, 310.592, -1]]))\n",
        "# m6"
      ],
      "metadata": {
        "colab": {
          "base_uri": "https://localhost:8080/"
        },
        "id": "VPsnByMTFKs5",
        "outputId": "e9951b77-e399-4710-cadc-bf26b7a2b994"
      },
      "execution_count": null,
      "outputs": [
        {
          "output_type": "execute_result",
          "data": {
            "text/plain": [
              "array([60.09577], dtype=float32)"
            ]
          },
          "metadata": {},
          "execution_count": 62
        }
      ]
    },
    {
      "cell_type": "markdown",
      "source": [
        "#KNN"
      ],
      "metadata": {
        "id": "VdoinOHeHaEJ"
      }
    },
    {
      "cell_type": "code",
      "source": [
        "# X_train2 = X_train\n",
        "# X_test2 = X_test\n",
        "# y_train2 = y_train\n",
        "# y_test2 = y_test"
      ],
      "metadata": {
        "id": "8NPCYGOFIqmL"
      },
      "execution_count": null,
      "outputs": []
    },
    {
      "cell_type": "code",
      "source": [
        "# from sklearn.preprocessing import MinMaxScaler, StandardScaler\n",
        "# sc = MinMaxScaler()\n",
        "# X_train2 = sc.fit_transform(X_train2)\n",
        "# X_test2 = sc.transform(X_test2)"
      ],
      "metadata": {
        "id": "TYPlKF9ZIx8L"
      },
      "execution_count": null,
      "outputs": []
    },
    {
      "cell_type": "code",
      "source": [
        "# # Import the necessary libraries\n",
        "# from sklearn.neighbors import KNeighborsRegressor\n",
        "# from sklearn.datasets import make_regression\n",
        "# #from sklearn.model_selection import train_test_split\n",
        "# from sklearn.metrics import mean_squared_error\n",
        "\n",
        "# # Generate a synthetic regression dataset\n",
        "# #X, y = make_regression(n_samples=1000, random_state=42)\n",
        "\n",
        "# # Split the data into training and testing sets\n",
        "# #X_train, X_test, y_train, y_test = train_test_split(X, y, test_size=0.2, random_state=42)\n",
        "\n",
        "# # Create a KNN Regressor\n",
        "# knn_regressor = KNeighborsRegressor(n_neighbors=5)\n",
        "\n",
        "# # Train the model\n",
        "# knn_regressor.fit(X_train2, y_train2)\n",
        "\n",
        "# # Make predictions on the testing set\n",
        "# y_pred1 = knn_regressor.predict(X_test2)\n",
        "\n",
        "# # Evaluate the performance of the model\n",
        "# mse = mean_squared_error(y_test, y_pred1)\n",
        "# print(\"Mean Squared Error:\", mse)\n"
      ],
      "metadata": {
        "colab": {
          "base_uri": "https://localhost:8080/"
        },
        "id": "W9h-dHdSF_R5",
        "outputId": "88afdf82-684f-4d86-898e-f621d7b2535c"
      },
      "execution_count": null,
      "outputs": [
        {
          "output_type": "stream",
          "name": "stdout",
          "text": [
            "Mean Squared Error: 2.70841424618945\n"
          ]
        }
      ]
    },
    {
      "cell_type": "code",
      "source": [
        "# threshold = 0.5\n",
        "# correct_predictions = np.abs(np.array(y_test)- np.array(y_pred1)) <= threshold\n",
        "# accuracy7 = (np.sum(correct_predictions) / len(y_test))*100\n",
        "# print(accuracy7)"
      ],
      "metadata": {
        "colab": {
          "base_uri": "https://localhost:8080/"
        },
        "id": "2pYTZNgMHjpw",
        "outputId": "0ebd0100-a2b4-4e93-a800-51eefe9e312c"
      },
      "execution_count": null,
      "outputs": [
        {
          "output_type": "stream",
          "name": "stdout",
          "text": [
            "92.62539198682573\n"
          ]
        }
      ]
    },
    {
      "cell_type": "code",
      "source": [
        "# print('Root Mean Squared Error: ' + \"{:.2f}\".format(mean_squared_error(y_test, y_pred1, squared = False)))"
      ],
      "metadata": {
        "colab": {
          "base_uri": "https://localhost:8080/"
        },
        "id": "0oPdbnZcH0AK",
        "outputId": "72b8c207-9809-430b-8c14-5af1bd46fd3d"
      },
      "execution_count": null,
      "outputs": [
        {
          "output_type": "stream",
          "name": "stdout",
          "text": [
            "Root Mean Squared Error: 1.65\n"
          ]
        }
      ]
    },
    {
      "cell_type": "code",
      "source": [],
      "metadata": {
        "id": "kG5waap2H8Cp"
      },
      "execution_count": null,
      "outputs": []
    }
  ]
}